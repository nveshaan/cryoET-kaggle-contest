{
 "cells": [
  {
   "cell_type": "code",
   "execution_count": 1,
   "metadata": {},
   "outputs": [],
   "source": [
    "import zarr\n",
    "import numpy as np\n",
    "import matplotlib.pyplot as plt\n",
    "import json"
   ]
  },
  {
   "cell_type": "code",
   "execution_count": 2,
   "metadata": {},
   "outputs": [],
   "source": [
    "train_exp_runs = ['TS_5_4', 'TS_6_4', 'TS_6_6', 'TS_69_2', 'TS_73_6', 'TS_86_3', 'TS_99_9']\n",
    "test_exp_runs = ['TS_5_4', 'TS_6_4', 'TS_69_2']\n",
    "\n",
    "particles = ['apo-ferritin', 'beta-amylase', 'beta-galactosidase', 'ribosome', 'thyroglobulin', 'virus-like-particle']"
   ]
  },
  {
   "cell_type": "code",
   "execution_count": 3,
   "metadata": {},
   "outputs": [],
   "source": [
    "X_train = []\n",
    "Y_train = []\n",
    "\n",
    "X_test = []"
   ]
  },
  {
   "cell_type": "code",
   "execution_count": 4,
   "metadata": {},
   "outputs": [],
   "source": [
    "for run in train_exp_runs:\n",
    "    path = f\"/Users/nveshaan/Developer/cryoet_kaggle_contest/data/train/static/ExperimentRuns/{run}/VoxelSpacing10.000/denoised.zarr\"\n",
    "    store = zarr.open(path)\n",
    "    X_train.append(store['0'][:]) # 0 corresponds to highest resolution\n",
    "\n",
    "    for part in particles:\n",
    "        path = f\"/Users/nveshaan/Developer/cryoet_kaggle_contest/data/train/overlay/ExperimentRuns/{run}/Picks/{part}.json\"\n",
    "        with open(path, 'r', encoding='utf-8') as f:\n",
    "            data = json.load(f)\n",
    "\n",
    "        # TODO get rid of for loop, its inefficient \n",
    "        for point in data['points']:\n",
    "            # coordinates truncated to int\n",
    "            point_x = point['location']['x'] // 10\n",
    "            point_y = point['location']['y'] // 10\n",
    "            point_z = point['location']['z'] // 10\n",
    "\n",
    "            Y_train.append([part, point_x, point_y, point_z])"
   ]
  },
  {
   "cell_type": "code",
   "execution_count": 5,
   "metadata": {},
   "outputs": [],
   "source": [
    "for run in test_exp_runs:\n",
    "    path = f\"/Users/nveshaan/Developer/cryoet_kaggle_contest/data/test/static/ExperimentRuns/{run}/VoxelSpacing10.000/denoised.zarr\"\n",
    "    store = zarr.open(path)\n",
    "    X_test.append(store['0'][:])"
   ]
  },
  {
   "cell_type": "code",
   "execution_count": 7,
   "metadata": {},
   "outputs": [],
   "source": [
    "X_train = np.array(X_train)\n",
    "Y_train = np.array(Y_train)\n",
    "\n",
    "X_test = np.array(X_test)"
   ]
  },
  {
   "cell_type": "code",
   "execution_count": 12,
   "metadata": {},
   "outputs": [
    {
     "name": "stdout",
     "output_type": "stream",
     "text": [
      "(7, 184, 630, 630)\n",
      "(1269, 4)\n",
      "(3, 184, 630, 630)\n"
     ]
    }
   ],
   "source": [
    "print(X_train.shape)\n",
    "print(Y_train.shape)\n",
    "\n",
    "print(X_test.shape)"
   ]
  },
  {
   "cell_type": "code",
   "execution_count": 13,
   "metadata": {},
   "outputs": [],
   "source": [
    "np.save('/Users/nveshaan/Developer/cryoet_kaggle_contest/data/X_train.npy', X_train)\n",
    "np.save('/Users/nveshaan/Developer/cryoet_kaggle_contest/data/Y_train.npy', Y_train)\n",
    "\n",
    "np.save('/Users/nveshaan/Developer/cryoet_kaggle_contest/data/X_test.npy', X_test)"
   ]
  }
 ],
 "metadata": {
  "kernelspec": {
   "display_name": "env",
   "language": "python",
   "name": "python3"
  },
  "language_info": {
   "codemirror_mode": {
    "name": "ipython",
    "version": 3
   },
   "file_extension": ".py",
   "mimetype": "text/x-python",
   "name": "python",
   "nbconvert_exporter": "python",
   "pygments_lexer": "ipython3",
   "version": "3.10.14"
  }
 },
 "nbformat": 4,
 "nbformat_minor": 2
}
